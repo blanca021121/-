{
 "cells": [
  {
   "cell_type": "code",
   "execution_count": 1,
   "id": "1f12ac8a",
   "metadata": {},
   "outputs": [],
   "source": [
    "import numpy as np\n",
    "import pandas as pd\n",
    "import matplotlib.pyplot as plt"
   ]
  },
  {
   "cell_type": "code",
   "execution_count": 2,
   "id": "8b587078",
   "metadata": {},
   "outputs": [],
   "source": [
    "#Read Data\n",
    "train = pd.read_csv('mnist_train.csv')\n",
    "test = pd.read_csv('mnist_test.csv')\n",
    "\n",
    "#train set\n",
    "X_train = train.iloc[:, 1:].values/255.0\n",
    "y_train = train.iloc[:, 0].values\n",
    "\n",
    "#test set\n",
    "X_test = test.iloc[:, 1:].values/255.0\n",
    "y_test = test.iloc[:, 0].values\n",
    "\n",
    "#validation set rate\n",
    "train_idx = np.random.choice(range(len(X_train)), int(len(X_train) * 0.95), replace=False)\n",
    "val_idx = list(set(range(len(X_train))) - set(train_idx))\n",
    "\n",
    "#order: validation set, non-validation set\n",
    "X_val, y_val  = X_train[val_idx],y_train[val_idx]\n",
    "X_train, y_train= X_train[train_idx], y_train[train_idx]"
   ]
  },
  {
   "cell_type": "code",
   "execution_count": 3,
   "id": "96a4c831",
   "metadata": {},
   "outputs": [],
   "source": [
    "#If neccesary\n",
    "class OneHotEncoder:\n",
    "    def __init__(self):\n",
    "        self.categories = None\n",
    "\n",
    "    def fit(self, y):\n",
    "        self.categories = np.unique(y)\n",
    "\n",
    "    def transform(self, y):\n",
    "        return np.array([self.categories == val for val in y]).astype(int)\n",
    "\n",
    "    def fit_transform(self, y):\n",
    "        self.fit(y)\n",
    "        return self.transform(y)"
   ]
  },
  {
   "cell_type": "code",
   "execution_count": 4,
   "id": "e6afc2d2",
   "metadata": {},
   "outputs": [],
   "source": [
    "#Loss function : Cross Entropy\n",
    "class CrossEntropy:\n",
    "    def forward(self, X, y):\n",
    "        self.m = y.shape[0]\n",
    "        self.p = Softmax(X) \n",
    "        return -np.log(self.p[range(self.m), y])[0] / self.m\n",
    "    \n",
    "    def backward(self, X, y):\n",
    "        y_idx = y.argmax()        \n",
    "        grad = Softmax(X)\n",
    "        grad[range(self.m), y] -= 1\n",
    "        grad /= self.m\n",
    "        return grad\n",
    "\n",
    "#Activation function : ReLU\n",
    "class ReLU():\n",
    "    def __init__(self):\n",
    "        self.params = []\n",
    "        self.gradInput = None\n",
    "\n",
    "    def forward(self, X):\n",
    "        self.output = np.maximum(X, 0)\n",
    "        return self.output\n",
    "\n",
    "    def backward(self, nextgrad):\n",
    "        self.gradInput = nextgrad.copy()\n",
    "        self.gradInput[self.output <=0] = 0\n",
    "        return self.gradInput, []\n",
    "    \n",
    "    \n",
    "#Activation function : Softmax\n",
    "def Softmax(x):\n",
    "    exp_x = np.exp(x - np.max(x, axis=1, keepdims=True))\n",
    "    out= exp_x / np.sum(exp_x, axis=1, keepdims=True)\n",
    "    return out"
   ]
  },
  {
   "cell_type": "code",
   "execution_count": 5,
   "id": "8fd3532f",
   "metadata": {},
   "outputs": [],
   "source": [
    "#Optimization\n",
    "def momentum_optimizer(velocity, params, grads, alpha=0.01, mu=0.9):\n",
    "    for v, p, g, in zip(velocity, params, reversed(grads)):\n",
    "        for i in range(len(g)):\n",
    "            p[i] -= mu * v[i] + alpha * g[i]"
   ]
  },
  {
   "cell_type": "code",
   "execution_count": 6,
   "id": "44c74697",
   "metadata": {
    "scrolled": false
   },
   "outputs": [],
   "source": [
    "#Minibatch\n",
    "def batch(X, y, batch_size):\n",
    "    shuffle = X.shape[0]\n",
    "    \n",
    "    #randomization\n",
    "    shuffled_idx = np.random.permutation(shuffle)\n",
    "    X = X[shuffled_idx]\n",
    "    y = y[shuffled_idx]\n",
    "\n",
    "    batches = [(X[i:i+batch_size,:], y[i:i+batch_size,])\n",
    "                   for i in range(0, shuffle, batch_size)]\n",
    "    \n",
    "    return batches"
   ]
  },
  {
   "cell_type": "code",
   "execution_count": 7,
   "id": "5421d6d5",
   "metadata": {},
   "outputs": [
    {
     "data": {
      "image/png": "[encoded data removed]",
      "text/plain": [
       "<Figure size 1000x400 with 10 Axes>"
      ]
     },
     "metadata": {},
     "output_type": "display_data"
    }
   ],
   "source": [
    "#Visualization\n",
    "labels = list(range(10))\n",
    "\n",
    "# Show images for each label\n",
    "fig, axes = plt.subplots(2, 5, figsize=(10,4))\n",
    "\n",
    "for label, ax in zip(labels, axes.flat):\n",
    "    indices = np.where(y_train == label)[0]\n",
    "    image = X_train[indices[0]].reshape(28, 28)\n",
    "    ax.imshow(image, cmap='gray')\n",
    "    ax.set_title(f\"Label: {label}\")\n",
    "\n",
    "plt.tight_layout()\n",
    "plt.show()\n"
   ]
  },
  {
   "cell_type": "code",
   "execution_count": 8,
   "id": "970ef4ec",
   "metadata": {},
   "outputs": [],
   "source": [
    "#Linear feedforward and backpropaction\n",
    "class Dense():\n",
    "    def __init__(self, input_size, output_size):\n",
    "        self.W = np.random.randn(input_size, output_size) * 0.01\n",
    "        self.b = np.zeros((1, output_size))\n",
    "        self.params = [self.W, self.b]\n",
    "        self.gradInput = None        \n",
    "\n",
    "    def forward(self, X):\n",
    "        self.X = X\n",
    "        self.output = np.dot(X, self.W) + self.b\n",
    "        return self.output\n",
    "\n",
    "    def backward(self, nextgrad):\n",
    "        self.gradInput = np.dot(nextgrad, self.W.T)\n",
    "        return self.gradInput, [np.dot(self.X.T, nextgrad), np.sum(nextgrad, axis=0)]"
   ]
  },
  {
   "cell_type": "code",
   "execution_count": 9,
   "id": "4e6ad29f",
   "metadata": {},
   "outputs": [],
   "source": [
    "class NeuralNetwork():\n",
    "    def __init__(self, lossfunc=CrossEntropy()):\n",
    "        self.params = []\n",
    "        self.layers = []\n",
    "        self.loss_func = lossfunc\n",
    "        self.grads = []\n",
    "        \n",
    "    def add_layer(self, layer):\n",
    "        self.layers.append(layer)\n",
    "        self.params.append(layer.params)\n",
    "\n",
    "    def forward(self, X):\n",
    "        for layer in self.layers:\n",
    "            X = layer.forward(X)\n",
    "        return X\n",
    "    \n",
    "    def backward(self, nextgrad):\n",
    "        self.grads=[]\n",
    "        for layer in reversed(self.layers):\n",
    "            nextgrad, grad = layer.backward(nextgrad)\n",
    "            self.grads.append(grad)\n",
    "        return self.grads\n",
    "    \n",
    "    def propagation(self, X, y):\n",
    "        output = self.forward(X)\n",
    "        loss = self.loss_func.forward(output,y)\n",
    "        l2 = self.backward(self.loss_func.backward(output,y))\n",
    "        return loss, l2\n",
    "    \n",
    "    def predict(self, X):\n",
    "        scores = self.forward(X)\n",
    "        return np.argmax(scores, axis=1), scores\n"
   ]
  },
  {
   "cell_type": "code",
   "execution_count": 10,
   "id": "0f6f26ae",
   "metadata": {},
   "outputs": [],
   "source": [
    "#Change learning rate\n",
    "def step_decay_scheduler(initial_lr, decay_factor, step_size, current_epoch):\n",
    "    if initial_lr <=0.0001:\n",
    "        return initial_lr\n",
    "    \n",
    "    if current_epoch % step_size == 0 and current_epoch>=step_size:\n",
    "        return initial_lr * decay_factor\n",
    "    else:\n",
    "        return initial_lr"
   ]
  },
  {
   "cell_type": "code",
   "execution_count": 11,
   "id": "6f8cb862",
   "metadata": {},
   "outputs": [],
   "source": [
    "def accuracy(y_true, y_pred):\n",
    "    return np.mean(y_pred == y_true)\n",
    "\n",
    "def visualize_loss(history_train_loss, history_val_loss):\n",
    "    plt.plot(range(1, epoch+1), history_train_loss, c='blue', label='Training Loss')\n",
    "    plt.plot(range(1, epoch+1), history_val_loss, c='red', label='Validation Loss')\n",
    "    plt.xlabel('Epochs')\n",
    "    plt.ylabel('Loss')\n",
    "    plt.legend()\n",
    "    plt.show()    \n",
    "           \n",
    "def visualize_accuracy(epoch, history_train_acc, history_val_acc):\n",
    "    plt.plot(range(1, epoch+1), history_train_acc, c='blue', label='Train Acc')\n",
    "    plt.plot(range(1, epoch+1), history_val_acc, c='red', label='Val Acc')\n",
    "    plt.xlabel('Epochs')\n",
    "    plt.ylabel('Accuracy')\n",
    "    plt.show()        "
   ]
  },
  {
   "cell_type": "code",
   "execution_count": 12,
   "id": "e09009f8",
   "metadata": {},
   "outputs": [],
   "source": [
    "def train(net, X_train, y_train, X_val, y_val, batch_size, epoch, alpha, mu=0.9):\n",
    "    history_train_loss = []\n",
    "    history_val_loss = []\n",
    "    history_train_acc = []\n",
    "    history_val_acc = []\n",
    "    \n",
    "    for e in range(epoch):\n",
    "        #transform learning rate along epoch\n",
    "        alpha = step_decay_scheduler(alpha, 0.05, 20, e)\n",
    "        \n",
    "        #Make mini batch set\n",
    "        train_batches = batch(X_train, y_train, batch_size)\n",
    "        val_batches = batch(X_val, y_val, batch_size)\n",
    "        \n",
    "        #Veolocity for optimization\n",
    "        velocity=[]\n",
    "        for params in net.params:\n",
    "            velocity.append([np.zeros_like(param) for param in list(params)])   \n",
    "            \n",
    "        # Train non-validation set and calculate loss\n",
    "        train_losses = []\n",
    "        for X_batch_train, y_batch_train in train_batches:\n",
    "            train_loss, grads = net.propagation(X_batch_train, y_batch_train)\n",
    "            train_losses.append(train_loss)\n",
    "            momentum_optimizer(velocity, net.params, grads, alpha=alpha, mu=mu)\n",
    "        \n",
    "        # Calculate non-validation loss\n",
    "        val_losses = []\n",
    "        for X_batch_val, y_batch_val in val_batches:\n",
    "            val_loss, _ = net.propagation(X_batch_val, y_batch_val)\n",
    "            val_losses.append(val_loss)\n",
    "        \n",
    "        # Recording loss\n",
    "        mean_train_loss = sum(train_losses) / float(len(train_losses))\n",
    "        mean_val_loss = sum(val_losses) / float(len(val_losses))\n",
    "        \n",
    "        history_train_loss.append(mean_train_loss)\n",
    "        history_val_loss.append(mean_val_loss)\n",
    "        \n",
    "        # Calculate accuracy for training, validation, and test sets\n",
    "        y_train_pred = np.array([], dtype=\"int64\")\n",
    "        y_val_pred = np.array([], dtype=\"int64\")\n",
    "        y_batch_train = []\n",
    "        y_batch_val = []\n",
    "        \n",
    "        #Calculate accuracy\n",
    "        for X_batch, y_batch in train_batches:\n",
    "            y_batch_train = np.append(y_batch_train, y_batch)\n",
    "            y_train_pred = np.append(y_train_pred, net.predict(X_batch)[0])\n",
    "    \n",
    "        for X_batch, y_batch in val_batches:\n",
    "            y_batch_val = np.append(y_batch_val, y_batch)\n",
    "            y_val_pred = np.append(y_val_pred, net.predict(X_batch)[0])\n",
    "            \n",
    "        #Recording accuarcy\n",
    "        train_acc = accuracy(y_batch_train, y_train_pred)\n",
    "        val_acc = accuracy(y_batch_val, y_val_pred)\n",
    "        history_train_acc.append(train_acc)\n",
    "        history_val_acc.append(val_acc) \n",
    "        \n",
    "        print(\"Loss = {0} | Training Accuracy = {1} | Val Loss = {2} | Val Accuracy = {3}\".format(mean_train_loss, train_acc, mean_val_loss, val_acc))\n",
    "    \n",
    "    test_acc = np.mean([nn.predict(X_test[i])[0]==y_test[i] for i in range(len(X_test))])   \n",
    "    print(\"\\nTest Accurarcy = {0}\".format(test_acc))   \n",
    "    \n",
    "    #Visualize Loss\n",
    "    visualize_loss(history_train_loss, history_val_loss)\n",
    "    visualize_accuracy(epoch, history_train_acc, history_val_acc)\n",
    "\n",
    "    return net"
   ]
  },
  {
   "cell_type": "code",
   "execution_count": 13,
   "id": "8fbb29fb",
   "metadata": {},
   "outputs": [
    {
     "name": "stdout",
     "output_type": "stream",
     "text": [
      "Loss = 0.023004860615006433 | Training Accuracy = 0.11226512745837647 | Val Loss = 0.02272015256903981 | Val Accuracy = 0.115\n",
      "Loss = 0.0110738566945139 | Training Accuracy = 0.8371024053053563 | Val Loss = 0.0021491071358853355 | Val Accuracy = 0.841\n",
      "Loss = 0.004438623014756707 | Training Accuracy = 0.9011386164669556 | Val Loss = 0.003163461376644823 | Val Accuracy = 0.8976666666666666\n",
      "Loss = 0.0021157977019745982 | Training Accuracy = 0.9241214758153652 | Val Loss = 0.003511162635367664 | Val Accuracy = 0.921\n",
      "Loss = 0.0018286545810398244 | Training Accuracy = 0.9425253074615344 | Val Loss = 0.0015234627861936882 | Val Accuracy = 0.9336666666666666\n",
      "Loss = 0.002439187931197339 | Training Accuracy = 0.9474201301777224 | Val Loss = 0.0012962692696623075 | Val Accuracy = 0.9413333333333334\n",
      "Loss = 0.001456953857794345 | Training Accuracy = 0.9516307303636906 | Val Loss = 0.002510404362300057 | Val Accuracy = 0.942\n",
      "Loss = 0.0015517803757829941 | Training Accuracy = 0.9589466481868103 | Val Loss = 0.006182009671486679 | Val Accuracy = 0.95\n",
      "Loss = 0.001488648973871562 | Training Accuracy = 0.9641046334146213 | Val Loss = 0.0004911398236386512 | Val Accuracy = 0.9533333333333334\n",
      "Loss = 0.0013072366340348568 | Training Accuracy = 0.9673678485587467 | Val Loss = 0.0005641199126039874 | Val Accuracy = 0.958\n",
      "Loss = 0.0013488409679501192 | Training Accuracy = 0.9703503570238075 | Val Loss = 0.0010209070002501204 | Val Accuracy = 0.962\n",
      "Loss = 0.0007314225697937283 | Training Accuracy = 0.9705608870331058 | Val Loss = 0.0010839531066027584 | Val Accuracy = 0.9606666666666667\n",
      "Loss = 0.0007089787213608426 | Training Accuracy = 0.9748065755539571 | Val Loss = 0.0013526654782506904 | Val Accuracy = 0.9633333333333334\n",
      "Loss = 0.0009324635946090591 | Training Accuracy = 0.9751750030702293 | Val Loss = 0.0006973716405013346 | Val Accuracy = 0.9623333333333334\n",
      "Loss = 0.0007432625876989954 | Training Accuracy = 0.977104861488798 | Val Loss = 0.0008343676868241733 | Val Accuracy = 0.965\n",
      "Loss = 0.0005954076040389515 | Training Accuracy = 0.978350497377147 | Val Loss = 0.0001676258617250266 | Val Accuracy = 0.9673333333333334\n",
      "Loss = 0.0006152599658741331 | Training Accuracy = 0.9807014158143126 | Val Loss = 0.0003215127043042275 | Val Accuracy = 0.9686666666666667\n",
      "Loss = 0.0009662596615755138 | Training Accuracy = 0.9818417866980123 | Val Loss = 0.002610170001179721 | Val Accuracy = 0.9686666666666667\n",
      "Loss = 0.0007320694036025388 | Training Accuracy = 0.9831049667538027 | Val Loss = 0.0004023627452199548 | Val Accuracy = 0.968\n",
      "Loss = 0.0004963637378738339 | Training Accuracy = 0.9837365567816979 | Val Loss = 0.0002554103862972476 | Val Accuracy = 0.9666666666666667\n",
      "Loss = 0.0005967553752462742 | Training Accuracy = 0.9858418568746821 | Val Loss = 0.0009488288357782944 | Val Accuracy = 0.9696666666666667\n",
      "Loss = 0.0006216899213266178 | Training Accuracy = 0.9862278285583957 | Val Loss = 0.000646170961943585 | Val Accuracy = 0.9713333333333334\n",
      "Loss = 0.0005025477150194231 | Training Accuracy = 0.9866488885769926 | Val Loss = 0.004102436702600582 | Val Accuracy = 0.972\n",
      "Loss = 0.0004930899870087638 | Training Accuracy = 0.9868243302514079 | Val Loss = 0.0007960058820813959 | Val Accuracy = 0.9713333333333334\n",
      "Loss = 0.00044439525313966075 | Training Accuracy = 0.9869120510886156 | Val Loss = 0.000578719287775625 | Val Accuracy = 0.972\n",
      "Loss = 0.00046689414800884615 | Training Accuracy = 0.9871050369304725 | Val Loss = 0.0026153937533990737 | Val Accuracy = 0.9713333333333334\n",
      "Loss = 0.0008146454594310387 | Training Accuracy = 0.9873331111072124 | Val Loss = 0.0013223708144771066 | Val Accuracy = 0.972\n",
      "Loss = 0.000389578055733127 | Training Accuracy = 0.9873331111072124 | Val Loss = 0.0003105738538906467 | Val Accuracy = 0.972\n",
      "Loss = 0.0004888578167440129 | Training Accuracy = 0.9875260969490692 | Val Loss = 0.00013373817824532876 | Val Accuracy = 0.9713333333333334\n",
      "Loss = 0.00021856154151998997 | Training Accuracy = 0.9876664502886016 | Val Loss = 0.0007418504441392584 | Val Accuracy = 0.9723333333333334\n",
      "Loss = 0.0005129510227239785 | Training Accuracy = 0.9876664502886016 | Val Loss = 0.001724760181792229 | Val Accuracy = 0.9726666666666667\n",
      "Loss = 0.00046347157627454124 | Training Accuracy = 0.9876489061211601 | Val Loss = 0.00012456992023889886 | Val Accuracy = 0.9716666666666667\n",
      "Loss = 0.0005154400944401785 | Training Accuracy = 0.9877892594606923 | Val Loss = 0.00017006667276069407 | Val Accuracy = 0.9713333333333334\n",
      "Loss = 0.0005487617974924113 | Training Accuracy = 0.9876489061211601 | Val Loss = 0.0022808878803606287 | Val Accuracy = 0.9726666666666667\n",
      "Loss = 0.0005164638869118417 | Training Accuracy = 0.9877366269583677 | Val Loss = 0.00019993792967124322 | Val Accuracy = 0.9713333333333334\n",
      "Loss = 0.0007154300987412725 | Training Accuracy = 0.9878594361304585 | Val Loss = 5.41290930649951e-05 | Val Accuracy = 0.9716666666666667\n",
      "Loss = 0.0004022123090633107 | Training Accuracy = 0.9878068036281338 | Val Loss = 0.0015304080436484681 | Val Accuracy = 0.9726666666666667\n",
      "Loss = 0.0006709074180123369 | Training Accuracy = 0.9880173336374323 | Val Loss = 0.0041243043593704185 | Val Accuracy = 0.971\n",
      "Loss = 0.0006586603185008848 | Training Accuracy = 0.9880173336374323 | Val Loss = 0.00032227405591035176 | Val Accuracy = 0.972\n",
      "Loss = 0.00041312036319126125 | Training Accuracy = 0.9879822453025492 | Val Loss = 0.0018443698764677575 | Val Accuracy = 0.9726666666666667\n",
      "Loss = 0.0006295836727995645 | Training Accuracy = 0.9879647011351076 | Val Loss = 0.0004464831237271517 | Val Accuracy = 0.9723333333333334\n",
      "Loss = 0.0006760418954137046 | Training Accuracy = 0.9879822453025492 | Val Loss = 0.00019129910028859644 | Val Accuracy = 0.9716666666666667\n",
      "Loss = 0.0004700438990523645 | Training Accuracy = 0.9880348778048738 | Val Loss = 0.0009668630941804361 | Val Accuracy = 0.9716666666666667\n",
      "Loss = 0.0002938781557570309 | Training Accuracy = 0.9880524219723154 | Val Loss = 0.0006922628444033846 | Val Accuracy = 0.9716666666666667\n",
      "Loss = 0.0004466610290916578 | Training Accuracy = 0.9880348778048738 | Val Loss = 0.00028212934380491135 | Val Accuracy = 0.972\n",
      "Loss = 0.000420043356113479 | Training Accuracy = 0.9880875103071983 | Val Loss = 0.004285284713255369 | Val Accuracy = 0.972\n",
      "Loss = 0.0003125287219038276 | Training Accuracy = 0.9880699661397568 | Val Loss = 1.836397094577645e-05 | Val Accuracy = 0.972\n",
      "Loss = 0.0005573239158187564 | Training Accuracy = 0.9880875103071983 | Val Loss = 0.0013104528693488396 | Val Accuracy = 0.9716666666666667\n",
      "Loss = 0.0004985227241084125 | Training Accuracy = 0.9880699661397568 | Val Loss = 2.4618239688905446e-05 | Val Accuracy = 0.972\n",
      "Loss = 0.00034430015142219924 | Training Accuracy = 0.9881050544746399 | Val Loss = 7.928975930435452e-05 | Val Accuracy = 0.972\n",
      "\n",
      "Test Accurarcy = 0.9698969896989699\n"
     ]
    },
    {
     "data": {
      "image/png": "[encoded data removed]",
      "text/plain": [
       "<Figure size 640x480 with 1 Axes>"
      ]
     },
     "metadata": {},
     "output_type": "display_data"
    },
    {
     "data": {
      "image/png": "[encoded data removed]",
      "text/plain": [
       "<Figure size 640x480 with 1 Axes>"
      ]
     },
     "metadata": {},
     "output_type": "display_data"
    },
    {
     "data": {
      "text/plain": [
       "<__main__.NeuralNetwork at 0x1bbabc63cd0>"
      ]
     },
     "execution_count": 13,
     "metadata": {},
     "output_type": "execute_result"
    }
   ],
   "source": [
    "## input size\n",
    "in_nodes = X_train.shape[1]\n",
    "\n",
    "## hyperparameters\n",
    "epoch = 50\n",
    "alpha = 0.1\n",
    "h_nodes1 = 32\n",
    "h_nodes2 = 32\n",
    "out_nodes = 10\n",
    "\n",
    "\n",
    "## define neural net\n",
    "nn = NeuralNetwork()\n",
    "nn.add_layer(Dense(in_nodes, h_nodes1))\n",
    "nn.add_layer(ReLU())\n",
    "nn.add_layer(Dense(h_nodes1, h_nodes2))\n",
    "nn.add_layer(ReLU())\n",
    "nn.add_layer(Dense(h_nodes2, out_nodes))\n",
    "\n",
    "train(nn, X_train, y_train, X_val, y_val,\n",
    "           batch_size=100, epoch=epoch, alpha=alpha)\n"
   ]
  },
  {
   "cell_type": "code",
   "execution_count": null,
   "id": "2c023920",
   "metadata": {},
   "outputs": [],
   "source": []
  },
  {
   "cell_type": "code",
   "execution_count": null,
   "id": "072761ef",
   "metadata": {},
   "outputs": [],
   "source": []
  },
  {
   "cell_type": "code",
   "execution_count": null,
   "id": "a8e580c6",
   "metadata": {},
   "outputs": [],
   "source": []
  },
  {
   "cell_type": "code",
   "execution_count": null,
   "id": "8a23a12a",
   "metadata": {},
   "outputs": [],
   "source": []
  },
  {
   "cell_type": "code",
   "execution_count": null,
   "id": "cbf92b6b",
   "metadata": {},
   "outputs": [],
   "source": []
  },
  {
   "cell_type": "code",
   "execution_count": null,
   "id": "45acf50d",
   "metadata": {},
   "outputs": [],
   "source": []
  },
  {
   "cell_type": "code",
   "execution_count": null,
   "id": "ec0f5c67",
   "metadata": {},
   "outputs": [],
   "source": []
  }
 ],
 "metadata": {
  "kernelspec": {
   "display_name": "Python 3 (ipykernel)",
   "language": "python",
   "name": "python3"
  },
  "language_info": {
   "codemirror_mode": {
    "name": "ipython",
    "version": 3
   },
   "file_extension": ".py",
   "mimetype": "text/x-python",
   "name": "python",
   "nbconvert_exporter": "python",
   "pygments_lexer": "ipython3",
   "version": "3.10.9"
  }
 },
 "nbformat": 4,
 "nbformat_minor": 5
}
